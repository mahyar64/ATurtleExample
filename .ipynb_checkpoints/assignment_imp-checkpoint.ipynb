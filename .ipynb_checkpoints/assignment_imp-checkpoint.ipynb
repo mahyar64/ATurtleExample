{
 "cells": [
  {
   "cell_type": "code",
   "execution_count": 1,
   "metadata": {
    "collapsed": true
   },
   "outputs": [],
   "source": [
    "from graphictk import *"
   ]
  },
  {
   "cell_type": "code",
   "execution_count": 2,
   "metadata": {
    "collapsed": true
   },
   "outputs": [],
   "source": [
    "#Define a turtle facing north\n",
    "Tom=Myturtle()\n",
    "Tom.left(90)\n"
   ]
  },
  {
   "cell_type": "code",
   "execution_count": 3,
   "metadata": {
    "scrolled": true
   },
   "outputs": [],
   "source": [
    "# the example inside assignment\n",
    "Tom.color('red')\n",
    "Tom.move (50)\n",
    "Tom.left(90)\n",
    "Tom.move (50)\n",
    "Tom.left(90)\n",
    "Tom.move (50)\n",
    "Tom.left(90)\n",
    "Tom.move (50)"
   ]
  },
  {
   "cell_type": "code",
   "execution_count": 4,
   "metadata": {
    "collapsed": true
   },
   "outputs": [],
   "source": [
    "#test pendown/up\n",
    "Tom.penup()\n",
    "Tom.move(200)\n",
    "Tom.color('blue')\n",
    "Tom.pendown()\n",
    "for i in range (4):\n",
    "    Tom.move (100)\n",
    "    Tom.right (90)"
   ]
  },
  {
   "cell_type": "code",
   "execution_count": 5,
   "metadata": {
    "collapsed": true
   },
   "outputs": [],
   "source": [
    "#second turtle in the screen\n",
    "Joe=Myturtle()\n",
    "Joe.color('green')\n",
    "for i in range (4):\n",
    "    Joe.move (100)\n",
    "    Joe.right (90)"
   ]
  }
 ],
 "metadata": {
  "kernelspec": {
   "display_name": "Python 3",
   "language": "python",
   "name": "python3"
  },
  "language_info": {
   "codemirror_mode": {
    "name": "ipython",
    "version": 3
   },
   "file_extension": ".py",
   "mimetype": "text/x-python",
   "name": "python",
   "nbconvert_exporter": "python",
   "pygments_lexer": "ipython3",
   "version": "3.5.4rc1"
  }
 },
 "nbformat": 4,
 "nbformat_minor": 2
}
